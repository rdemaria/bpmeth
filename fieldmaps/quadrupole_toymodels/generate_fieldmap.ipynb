{
 "cells": [
  {
   "cell_type": "code",
   "execution_count": 52,
   "metadata": {},
   "outputs": [],
   "source": [
    "import matplotlib.pyplot as plt \n",
    "import bpmeth\n",
    "import numpy as np"
   ]
  },
  {
   "cell_type": "code",
   "execution_count": 53,
   "metadata": {},
   "outputs": [],
   "source": [
    "quad = bpmeth.GeneralVectorPotential(b=('0','-10', '50'))"
   ]
  },
  {
   "cell_type": "code",
   "execution_count": 54,
   "metadata": {},
   "outputs": [],
   "source": [
    "quadfield = quad.get_Bfield(lambdify=True)"
   ]
  },
  {
   "cell_type": "code",
   "execution_count": 55,
   "metadata": {},
   "outputs": [],
   "source": [
    "x = np.linspace(-0.05, 0.05, 51)\n",
    "y = np.linspace(0, 0.05, 26)\n",
    "z = np.linspace(0, 0.75, 376)\n",
    "\n",
    "X, Y, Z = np.meshgrid(x, y, z)"
   ]
  },
  {
   "cell_type": "code",
   "execution_count": 56,
   "metadata": {},
   "outputs": [],
   "source": [
    "Bxvals = quadfield[0](X, Y, Z).flatten()\n",
    "Byvals = quadfield[1](X, Y, Z).flatten()\n",
    "Bzvals = quadfield[2](X, Y, Z).flatten()"
   ]
  },
  {
   "cell_type": "code",
   "execution_count": 57,
   "metadata": {},
   "outputs": [],
   "source": [
    "# Add random noise \n",
    "mean = 0\n",
    "std = 0.0001\n",
    "\n",
    "noise_Bx = np.random.normal(mean, std, size=Bxvals.shape)\n",
    "noise_By = np.random.normal(mean, std, size=Byvals.shape)\n",
    "noise_Bz = np.random.normal(mean, std, size=Bzvals.shape)\n",
    "\n",
    "Bxvals = Bxvals + noise_Bx\n",
    "Byvals = Byvals + noise_By\n",
    "Bzvals = Bzvals + noise_Bz"
   ]
  },
  {
   "cell_type": "code",
   "execution_count": 58,
   "metadata": {},
   "outputs": [],
   "source": [
    "np.savetxt('Bfield.txt', np.array([X.flatten(), Y.flatten(), Z.flatten(), Bxvals, Byvals, Bzvals]).T, delimiter=' ', header='x,y,z,Bx,By,Bz', comments='')"
   ]
  },
  {
   "cell_type": "code",
   "execution_count": null,
   "metadata": {},
   "outputs": [],
   "source": []
  }
 ],
 "metadata": {
  "kernelspec": {
   "display_name": "xsuite",
   "language": "python",
   "name": "python3"
  },
  "language_info": {
   "codemirror_mode": {
    "name": "ipython",
    "version": 3
   },
   "file_extension": ".py",
   "mimetype": "text/x-python",
   "name": "python",
   "nbconvert_exporter": "python",
   "pygments_lexer": "ipython3",
   "version": "3.13.1"
  }
 },
 "nbformat": 4,
 "nbformat_minor": 2
}
